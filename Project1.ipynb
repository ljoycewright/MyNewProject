{
 "cells": [
  {
   "cell_type": "code",
   "execution_count": null,
   "metadata": {},
   "outputs": [],
   "source": [
    "import pandas as pd\n",
    "import sqlite3\n",
    "import os\n",
    "\n",
    "# create the sqlite DB\n",
    "db = sqlite3.connect(\"RealEstate.db\")\n",
    "\n",
    "# read CSV into dataframe\n",
    "df1 = pd.read_csv(\"Sacramentorealestatetransactions.csv\", header=None)\n",
    "\n",
    "# convert the pandas dataframe to a sqlite table\n",
    "df1.to_sql(\"Street\", db, if_exists=\"replace\")\n",
    "\n",
    "def run_query(query):\n",
    "    return pd.read_sql_query(query,db)\n",
    "\n",
    "os.getcwd()"
   ]
  },
  {
   "cell_type": "code",
   "execution_count": null,
   "metadata": {},
   "outputs": [],
   "source": [
    "# query to show us what tables exist in DB\n",
    "query = \"\"\"\n",
    "SELECT * \n",
    "FROM sqlite_master\n",
    "ORDER BY name;\n",
    "\"\"\"\n",
    "run_query(query)"
   ]
  },
  {
   "cell_type": "code",
   "execution_count": null,
   "metadata": {},
   "outputs": [],
   "source": [
    "query = \"SELECT * FROM Street LIMIT 5;\"\n",
    "run_query(query)"
   ]
  },
  {
   "cell_type": "code",
   "execution_count": null,
   "metadata": {},
   "outputs": [],
   "source": []
  }
 ],
 "metadata": {
  "kernelspec": {
   "display_name": "Python 3",
   "language": "python",
   "name": "python3"
  },
  "language_info": {
   "codemirror_mode": {
    "name": "ipython",
    "version": 3
   },
   "file_extension": ".py",
   "mimetype": "text/x-python",
   "name": "python",
   "nbconvert_exporter": "python",
   "pygments_lexer": "ipython3",
   "version": "3.7.4"
  }
 },
 "nbformat": 4,
 "nbformat_minor": 2
}
